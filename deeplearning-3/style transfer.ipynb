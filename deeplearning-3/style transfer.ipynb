{
 "cells": [
  {
   "cell_type": "code",
   "execution_count": 1,
   "metadata": {},
   "outputs": [
    {
     "name": "stderr",
     "output_type": "stream",
     "text": [
      "Using TensorFlow backend.\n",
      "/Users/a1900001.1/.pyenv/versions/anaconda3-5.2.0/lib/python3.6/importlib/_bootstrap.py:219: RuntimeWarning: compiletime version 3.5 of module 'tensorflow.python.framework.fast_tensor_util' does not match runtime version 3.6\n",
      "  return f(*args, **kwds)\n"
     ]
    }
   ],
   "source": [
    "import os\n",
    "from urllib.request import urlretrieve\n",
    "from keras.preprocessing.image import load_img, img_to_array\n",
    "from keras.applications import vgg19\n",
    "from keras import backend as K\n",
    "import matplotlib.pyplot as plt\n",
    "import numpy as np"
   ]
  },
  {
   "cell_type": "code",
   "execution_count": 2,
   "metadata": {},
   "outputs": [],
   "source": [
    "class TransferDefinition():\n",
    "\n",
    "    def __init__(self, content_image_path, style_image_path, img_nrows=400):\n",
    "        self.width, self.height = load_img(content_image_path).size\n",
    "        self.img_nrows = img_nrows\n",
    "        self.img_ncols = int(self.width * self.img_nrows / self.height)\n",
    "\n",
    "    def preprocess_image(self, image_path):\n",
    "        img = load_img(image_path, target_size=(self.img_nrows, self.img_ncols))\n",
    "        img = img_to_array(img)\n",
    "        img = np.expand_dims(img, axis=0)\n",
    "        img = vgg19.preprocess_input(img)\n",
    "        return img\n",
    "\n",
    "    def deprocess_image(self, x):\n",
    "        img = x.copy()\n",
    "        img = img.reshape(self.img_nrows, self.img_ncols, 3)\n",
    "        # Remove zero-center by mean pixel\n",
    "        img[:, :, 0] += 103.939\n",
    "        img[:, :, 1] += 116.779\n",
    "        img[:, :, 2] += 123.68\n",
    "        # \"BGR\"->\"RGB\"\n",
    "        img = img[:, :, ::-1]\n",
    "        img = np.clip(img, 0, 255).astype(\"uint8\")\n",
    "        return img"
   ]
  },
  {
   "cell_type": "code",
   "execution_count": null,
   "metadata": {},
   "outputs": [],
   "source": []
  }
 ],
 "metadata": {
  "kernelspec": {
   "display_name": "Python 3",
   "language": "python",
   "name": "python3"
  },
  "language_info": {
   "codemirror_mode": {
    "name": "ipython",
    "version": 3
   },
   "file_extension": ".py",
   "mimetype": "text/x-python",
   "name": "python",
   "nbconvert_exporter": "python",
   "pygments_lexer": "ipython3",
   "version": "3.6.5"
  }
 },
 "nbformat": 4,
 "nbformat_minor": 2
}
